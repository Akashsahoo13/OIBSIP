{
  "nbformat": 4,
  "nbformat_minor": 0,
  "metadata": {
    "colab": {
      "provenance": []
    },
    "kernelspec": {
      "name": "python3",
      "display_name": "Python 3"
    },
    "language_info": {
      "name": "python"
    }
  },
  "cells": [
    {
      "cell_type": "code",
      "execution_count": 1,
      "metadata": {
        "id": "A2Jx9ekwyn0J"
      },
      "outputs": [],
      "source": [
        "import datetime\n",
        "import numpy as np\n",
        "import pandas as pd\n",
        "import matplotlib.pyplot as plt\n",
        "import seaborn as sns\n",
        "from sklearn.model_selection import train_test_split\n",
        "from sklearn.linear_model import LinearRegression\n",
        "from sklearn.ensemble import RandomForestRegressor\n",
        "from sklearn.preprocessing import StandardScaler\n",
        "from sklearn.metrics import r2_score\n",
        "import os\n"
      ]
    },
    {
      "cell_type": "code",
      "source": [
        "import kagglehub"
      ],
      "metadata": {
        "id": "oghsHezOysRN"
      },
      "execution_count": 2,
      "outputs": []
    },
    {
      "cell_type": "code",
      "source": [
        "path = kagglehub.dataset_download(\"vijayaadithyanvg/car-price-predictionused-cars\")\n",
        "print(\"Path to dataset files:\", path)\n"
      ],
      "metadata": {
        "id": "bYW4iTI9yzuj",
        "colab": {
          "base_uri": "https://localhost:8080/"
        },
        "outputId": "ce00baae-3686-43cc-83f9-bf4a07373cdc"
      },
      "execution_count": 3,
      "outputs": [
        {
          "output_type": "stream",
          "name": "stdout",
          "text": [
            "Downloading from https://www.kaggle.com/api/v1/datasets/download/vijayaadithyanvg/car-price-predictionused-cars?dataset_version_number=1...\n"
          ]
        },
        {
          "output_type": "stream",
          "name": "stderr",
          "text": [
            "100%|██████████| 3.76k/3.76k [00:00<00:00, 6.91MB/s]"
          ]
        },
        {
          "output_type": "stream",
          "name": "stdout",
          "text": [
            "Extracting files...\n",
            "Path to dataset files: /root/.cache/kagglehub/datasets/vijayaadithyanvg/car-price-predictionused-cars/versions/1\n"
          ]
        },
        {
          "output_type": "stream",
          "name": "stderr",
          "text": [
            "\n"
          ]
        }
      ]
    },
    {
      "cell_type": "code",
      "source": [
        "csv_files = [f for f in os.listdir(path) if f.endswith('.csv')]\n",
        "dataset_path = os.path.join(path, csv_files[0])\n",
        "dataset = pd.read_csv(dataset_path)\n"
      ],
      "metadata": {
        "id": "LNWI06Hiy2q4"
      },
      "execution_count": 4,
      "outputs": []
    },
    {
      "cell_type": "code",
      "source": [
        "print(dataset.head())"
      ],
      "metadata": {
        "id": "zB6xSkvWy5UY",
        "colab": {
          "base_uri": "https://localhost:8080/"
        },
        "outputId": "643e9bce-a9c7-4e0e-8c49-0da8fd281fbb"
      },
      "execution_count": 5,
      "outputs": [
        {
          "output_type": "stream",
          "name": "stdout",
          "text": [
            "  Car_Name  Year  Selling_Price  Present_Price  Driven_kms Fuel_Type  \\\n",
            "0     ritz  2014           3.35           5.59       27000    Petrol   \n",
            "1      sx4  2013           4.75           9.54       43000    Diesel   \n",
            "2     ciaz  2017           7.25           9.85        6900    Petrol   \n",
            "3  wagon r  2011           2.85           4.15        5200    Petrol   \n",
            "4    swift  2014           4.60           6.87       42450    Diesel   \n",
            "\n",
            "  Selling_type Transmission  Owner  \n",
            "0       Dealer       Manual      0  \n",
            "1       Dealer       Manual      0  \n",
            "2       Dealer       Manual      0  \n",
            "3       Dealer       Manual      0  \n",
            "4       Dealer       Manual      0  \n"
          ]
        }
      ]
    },
    {
      "cell_type": "code",
      "source": [
        "print(dataset.isnull().sum())"
      ],
      "metadata": {
        "id": "-KnNgj0zy7zl",
        "colab": {
          "base_uri": "https://localhost:8080/"
        },
        "outputId": "0c25f493-0ede-4c41-a0c3-f9a171bd1728"
      },
      "execution_count": 6,
      "outputs": [
        {
          "output_type": "stream",
          "name": "stdout",
          "text": [
            "Car_Name         0\n",
            "Year             0\n",
            "Selling_Price    0\n",
            "Present_Price    0\n",
            "Driven_kms       0\n",
            "Fuel_Type        0\n",
            "Selling_type     0\n",
            "Transmission     0\n",
            "Owner            0\n",
            "dtype: int64\n"
          ]
        }
      ]
    },
    {
      "cell_type": "code",
      "source": [
        "X = dataset.iloc[:, :-1]\n",
        "y = dataset.iloc[:, -1]"
      ],
      "metadata": {
        "id": "XmjWX_RLy-y9"
      },
      "execution_count": 7,
      "outputs": []
    },
    {
      "cell_type": "code",
      "source": [
        "# Separate features (X) and target (y)\n",
        "X = dataset.drop('Owner', axis=1)\n",
        "y = dataset['Owner']\n",
        "\n",
        "# Split data into training and testing sets\n",
        "X_train, X_test, y_train, y_test = train_test_split(X, y,\n",
        "                                                    test_size=0.3,\n",
        "                                                    random_state=42)"
      ],
      "metadata": {
        "id": "k4_VcmNezEHH"
      },
      "execution_count": 17,
      "outputs": []
    },
    {
      "cell_type": "code",
      "source": [
        "print(X_train.info())\n",
        "print(X_train[\"Car_Name\"].value_counts())"
      ],
      "metadata": {
        "id": "Dt0yxOD4zG-Z",
        "colab": {
          "base_uri": "https://localhost:8080/"
        },
        "outputId": "b1c54f52-9a1b-4b27-d3c7-5ef7ecea302b"
      },
      "execution_count": 9,
      "outputs": [
        {
          "output_type": "stream",
          "name": "stdout",
          "text": [
            "<class 'pandas.core.frame.DataFrame'>\n",
            "Index: 210 entries, 185 to 102\n",
            "Data columns (total 8 columns):\n",
            " #   Column         Non-Null Count  Dtype  \n",
            "---  ------         --------------  -----  \n",
            " 0   Car_Name       210 non-null    object \n",
            " 1   Year           210 non-null    int64  \n",
            " 2   Selling_Price  210 non-null    float64\n",
            " 3   Present_Price  210 non-null    float64\n",
            " 4   Driven_kms     210 non-null    int64  \n",
            " 5   Fuel_Type      210 non-null    object \n",
            " 6   Selling_type   210 non-null    object \n",
            " 7   Transmission   210 non-null    object \n",
            "dtypes: float64(2), int64(2), object(4)\n",
            "memory usage: 14.8+ KB\n",
            "None\n",
            "Car_Name\n",
            "city                        17\n",
            "corolla altis               10\n",
            "verna                        9\n",
            "brio                         9\n",
            "grand i10                    7\n",
            "                            ..\n",
            "Bajaj Avenger Street 220     1\n",
            "Bajaj Discover 125           1\n",
            "Hero Passion X pro           1\n",
            "Hero Glamour                 1\n",
            "Hyosung GT250R               1\n",
            "Name: count, Length: 83, dtype: int64\n"
          ]
        }
      ]
    },
    {
      "cell_type": "code",
      "source": [
        "make_train = X_train[\"Car_Name\"].str.split(\" \", expand=True)\n",
        "print(make_train.head())\n"
      ],
      "metadata": {
        "id": "MfemzhAdzRYX",
        "colab": {
          "base_uri": "https://localhost:8080/"
        },
        "outputId": "68fcf9de-fc0f-4c3c-cb1c-2fcc54404881"
      },
      "execution_count": 10,
      "outputs": [
        {
          "output_type": "stream",
          "name": "stdout",
          "text": [
            "           0       1     2     3     4\n",
            "185   Suzuki  Access   125  None  None\n",
            "72   corolla   altis  None  None  None\n",
            "15    ertiga    None  None  None  None\n",
            "10      alto     800  None  None  None\n",
            "196   Activa      3g  None  None  None\n"
          ]
        }
      ]
    },
    {
      "cell_type": "code",
      "source": [
        "# Drop the 'Car_Name' column as it has too many unique values\n",
        "X_train = X_train.drop(\"Car_Name\", axis=1)\n",
        "X_test = X_test.drop(\"Car_Name\", axis=1)\n",
        "\n",
        "# Concatenate X_train and X_test for consistent one-hot encoding\n",
        "X_combined = pd.concat([X_train, X_test], ignore_index=True)\n",
        "\n",
        "# Apply one-hot encoding to categorical features on the combined data\n",
        "X_combined = pd.get_dummies(X_combined, columns=['Fuel_Type', 'Selling_type', 'Transmission'], drop_first=True)\n",
        "\n",
        "# Split the combined data back into training and testing sets\n",
        "X_train = X_combined.iloc[:len(X_train)]\n",
        "X_test = X_combined.iloc[len(X_train):]"
      ],
      "metadata": {
        "id": "Zdge9VkNzSqT"
      },
      "execution_count": 18,
      "outputs": []
    },
    {
      "cell_type": "code",
      "source": [
        "X_test = X_test.reindex(columns=X_train.columns, fill_value=0)\n"
      ],
      "metadata": {
        "id": "JP4iI3cEzcQp"
      },
      "execution_count": 12,
      "outputs": []
    },
    {
      "cell_type": "code",
      "source": [
        "scaler = StandardScaler()\n",
        "X_train_scaled = scaler.fit_transform(X_train)\n",
        "X_test_scaled = scaler.transform(X_test)"
      ],
      "metadata": {
        "id": "Pa-5ASW6zj6j"
      },
      "execution_count": 19,
      "outputs": []
    },
    {
      "cell_type": "code",
      "source": [
        "lr_model = LinearRegression()\n",
        "lr_model.fit(X_train_scaled, y_train)\n",
        "y_pred_lr = lr_model.predict(X_test_scaled)\n"
      ],
      "metadata": {
        "id": "jLlZFgLIzwq5"
      },
      "execution_count": 20,
      "outputs": []
    },
    {
      "cell_type": "code",
      "source": [
        "rf_model = RandomForestRegressor(random_state=42)\n",
        "rf_model.fit(X_train, y_train)\n",
        "y_pred_rf = rf_model.predict(X_test)"
      ],
      "metadata": {
        "id": "zKtog1tgzzgu"
      },
      "execution_count": 21,
      "outputs": []
    },
    {
      "cell_type": "code",
      "source": [
        "print(\"Linear Regression R² Score:\", r2_score(y_test, y_pred_lr))\n",
        "print(\"Random Forest R² Score:\", r2_score(y_test, y_pred_rf))"
      ],
      "metadata": {
        "id": "VDoMxdF10pW0",
        "colab": {
          "base_uri": "https://localhost:8080/"
        },
        "outputId": "1e089e1f-e6c1-4bba-98f5-cea955ce6427"
      },
      "execution_count": 22,
      "outputs": [
        {
          "output_type": "stream",
          "name": "stdout",
          "text": [
            "Linear Regression R² Score: -0.2777552973250703\n",
            "Random Forest R² Score: -1.4560797752808994\n"
          ]
        }
      ]
    },
    {
      "cell_type": "code",
      "source": [
        "plt.figure(figsize=(10, 6))\n",
        "plt.scatter(y_test, y_pred_rf, alpha=0.6, label='Random Forest')\n",
        "plt.scatter(y_test, y_pred_lr, alpha=0.6, label='Linear Regression', color='red')\n",
        "plt.plot([y.min(), y.max()], [y.min(), y.max()], 'k--')\n",
        "plt.xlabel('Actual Prices')\n",
        "plt.ylabel('Predicted Prices')\n",
        "plt.title('Actual vs Predicted Car Prices')\n",
        "plt.legend()\n",
        "plt.grid(True)\n",
        "plt.show()"
      ],
      "metadata": {
        "id": "hN3cHfzU0s_R",
        "colab": {
          "base_uri": "https://localhost:8080/",
          "height": 564
        },
        "outputId": "c76c8fae-a1cc-4d9c-d556-ec87950cffcb"
      },
      "execution_count": 23,
      "outputs": [
        {
          "output_type": "display_data",
          "data": {
            "text/plain": [
              "<Figure size 1000x600 with 1 Axes>"
            ],
            "image/png": "[encoded data removed]"
          },
          "metadata": {}
        }
      ]
    }
  ]
}